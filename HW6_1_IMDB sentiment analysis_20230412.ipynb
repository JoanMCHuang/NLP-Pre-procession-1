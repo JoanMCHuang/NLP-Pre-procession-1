{
 "cells": [
  {
   "cell_type": "markdown",
   "id": "bb491ea5",
   "metadata": {},
   "source": [
    "## 套件引入 及 資料前處理"
   ]
  },
  {
   "cell_type": "code",
   "execution_count": 1,
   "id": "fe674f39",
   "metadata": {},
   "outputs": [],
   "source": [
    "from nltk.tokenize import word_tokenize\n",
    "from nltk.corpus import stopwords\n",
    "from nltk.stem import PorterStemmer\n",
    "import matplotlib.pyplot as plt\n",
    "from tensorflow.keras.layers import Activation, Dense, Embedding, LSTM, Bidirectional\n",
    "from tensorflow.keras.models import Sequential\n",
    "from math import log, sqrt\n",
    "import pandas as pd\n",
    "import numpy as np\n",
    "%matplotlib inline"
   ]
  },
  {
   "cell_type": "code",
   "execution_count": 2,
   "id": "c7c3f428",
   "metadata": {},
   "outputs": [
    {
     "data": {
      "text/html": [
       "<div>\n",
       "<style scoped>\n",
       "    .dataframe tbody tr th:only-of-type {\n",
       "        vertical-align: middle;\n",
       "    }\n",
       "\n",
       "    .dataframe tbody tr th {\n",
       "        vertical-align: top;\n",
       "    }\n",
       "\n",
       "    .dataframe thead th {\n",
       "        text-align: right;\n",
       "    }\n",
       "</style>\n",
       "<table border=\"1\" class=\"dataframe\">\n",
       "  <thead>\n",
       "    <tr style=\"text-align: right;\">\n",
       "      <th></th>\n",
       "      <th>review</th>\n",
       "      <th>sentiment</th>\n",
       "    </tr>\n",
       "  </thead>\n",
       "  <tbody>\n",
       "    <tr>\n",
       "      <th>0</th>\n",
       "      <td>One of the other reviewers has mentioned that ...</td>\n",
       "      <td>positive</td>\n",
       "    </tr>\n",
       "    <tr>\n",
       "      <th>1</th>\n",
       "      <td>A wonderful little production. &lt;br /&gt;&lt;br /&gt;The...</td>\n",
       "      <td>positive</td>\n",
       "    </tr>\n",
       "    <tr>\n",
       "      <th>2</th>\n",
       "      <td>I thought this was a wonderful way to spend ti...</td>\n",
       "      <td>positive</td>\n",
       "    </tr>\n",
       "    <tr>\n",
       "      <th>3</th>\n",
       "      <td>Basically there's a family where a little boy ...</td>\n",
       "      <td>negative</td>\n",
       "    </tr>\n",
       "    <tr>\n",
       "      <th>4</th>\n",
       "      <td>Petter Mattei's \"Love in the Time of Money\" is...</td>\n",
       "      <td>positive</td>\n",
       "    </tr>\n",
       "  </tbody>\n",
       "</table>\n",
       "</div>"
      ],
      "text/plain": [
       "                                              review sentiment\n",
       "0  One of the other reviewers has mentioned that ...  positive\n",
       "1  A wonderful little production. <br /><br />The...  positive\n",
       "2  I thought this was a wonderful way to spend ti...  positive\n",
       "3  Basically there's a family where a little boy ...  negative\n",
       "4  Petter Mattei's \"Love in the Time of Money\" is...  positive"
      ]
     },
     "execution_count": 2,
     "metadata": {},
     "output_type": "execute_result"
    }
   ],
   "source": [
    "pd = pd.read_csv('./IMDB Dataset.csv/IMDB Dataset.csv', encoding='latin-1')\n",
    "pd.head()"
   ]
  },
  {
   "cell_type": "markdown",
   "id": "c7a90743",
   "metadata": {},
   "source": [
    "### 修改欄位名稱"
   ]
  },
  {
   "cell_type": "code",
   "execution_count": 3,
   "id": "34063d06",
   "metadata": {},
   "outputs": [
    {
     "data": {
      "text/html": [
       "<div>\n",
       "<style scoped>\n",
       "    .dataframe tbody tr th:only-of-type {\n",
       "        vertical-align: middle;\n",
       "    }\n",
       "\n",
       "    .dataframe tbody tr th {\n",
       "        vertical-align: top;\n",
       "    }\n",
       "\n",
       "    .dataframe thead th {\n",
       "        text-align: right;\n",
       "    }\n",
       "</style>\n",
       "<table border=\"1\" class=\"dataframe\">\n",
       "  <thead>\n",
       "    <tr style=\"text-align: right;\">\n",
       "      <th></th>\n",
       "      <th>description</th>\n",
       "      <th>label</th>\n",
       "    </tr>\n",
       "  </thead>\n",
       "  <tbody>\n",
       "    <tr>\n",
       "      <th>0</th>\n",
       "      <td>One of the other reviewers has mentioned that ...</td>\n",
       "      <td>positive</td>\n",
       "    </tr>\n",
       "    <tr>\n",
       "      <th>1</th>\n",
       "      <td>A wonderful little production. &lt;br /&gt;&lt;br /&gt;The...</td>\n",
       "      <td>positive</td>\n",
       "    </tr>\n",
       "    <tr>\n",
       "      <th>2</th>\n",
       "      <td>I thought this was a wonderful way to spend ti...</td>\n",
       "      <td>positive</td>\n",
       "    </tr>\n",
       "    <tr>\n",
       "      <th>3</th>\n",
       "      <td>Basically there's a family where a little boy ...</td>\n",
       "      <td>negative</td>\n",
       "    </tr>\n",
       "    <tr>\n",
       "      <th>4</th>\n",
       "      <td>Petter Mattei's \"Love in the Time of Money\" is...</td>\n",
       "      <td>positive</td>\n",
       "    </tr>\n",
       "  </tbody>\n",
       "</table>\n",
       "</div>"
      ],
      "text/plain": [
       "                                         description     label\n",
       "0  One of the other reviewers has mentioned that ...  positive\n",
       "1  A wonderful little production. <br /><br />The...  positive\n",
       "2  I thought this was a wonderful way to spend ti...  positive\n",
       "3  Basically there's a family where a little boy ...  negative\n",
       "4  Petter Mattei's \"Love in the Time of Money\" is...  positive"
      ]
     },
     "execution_count": 3,
     "metadata": {},
     "output_type": "execute_result"
    }
   ],
   "source": [
    "# Change the title: 'review' as 'description'; 'sentiment' as 'label'\n",
    "description = [i for i in pd.review]\n",
    "label = [i for i in pd.sentiment]\n",
    "pd['description'] = description\n",
    "pd['label'] = label\n",
    "pd = pd[['description', 'label']]\n",
    "pd.head()"
   ]
  },
  {
   "cell_type": "markdown",
   "id": "fd5276b3",
   "metadata": {},
   "source": [
    "### 將 label 內 'negative' 改為 '0', 'positive' 改為 '1'"
   ]
  },
  {
   "cell_type": "code",
   "execution_count": 4,
   "id": "60ab62cd",
   "metadata": {},
   "outputs": [
    {
     "data": {
      "text/html": [
       "<div>\n",
       "<style scoped>\n",
       "    .dataframe tbody tr th:only-of-type {\n",
       "        vertical-align: middle;\n",
       "    }\n",
       "\n",
       "    .dataframe tbody tr th {\n",
       "        vertical-align: top;\n",
       "    }\n",
       "\n",
       "    .dataframe thead th {\n",
       "        text-align: right;\n",
       "    }\n",
       "</style>\n",
       "<table border=\"1\" class=\"dataframe\">\n",
       "  <thead>\n",
       "    <tr style=\"text-align: right;\">\n",
       "      <th></th>\n",
       "      <th>description</th>\n",
       "      <th>label</th>\n",
       "    </tr>\n",
       "  </thead>\n",
       "  <tbody>\n",
       "    <tr>\n",
       "      <th>0</th>\n",
       "      <td>One of the other reviewers has mentioned that ...</td>\n",
       "      <td>1</td>\n",
       "    </tr>\n",
       "    <tr>\n",
       "      <th>1</th>\n",
       "      <td>A wonderful little production. &lt;br /&gt;&lt;br /&gt;The...</td>\n",
       "      <td>1</td>\n",
       "    </tr>\n",
       "    <tr>\n",
       "      <th>2</th>\n",
       "      <td>I thought this was a wonderful way to spend ti...</td>\n",
       "      <td>1</td>\n",
       "    </tr>\n",
       "    <tr>\n",
       "      <th>3</th>\n",
       "      <td>Basically there's a family where a little boy ...</td>\n",
       "      <td>0</td>\n",
       "    </tr>\n",
       "    <tr>\n",
       "      <th>4</th>\n",
       "      <td>Petter Mattei's \"Love in the Time of Money\" is...</td>\n",
       "      <td>1</td>\n",
       "    </tr>\n",
       "  </tbody>\n",
       "</table>\n",
       "</div>"
      ],
      "text/plain": [
       "                                         description  label\n",
       "0  One of the other reviewers has mentioned that ...      1\n",
       "1  A wonderful little production. <br /><br />The...      1\n",
       "2  I thought this was a wonderful way to spend ti...      1\n",
       "3  Basically there's a family where a little boy ...      0\n",
       "4  Petter Mattei's \"Love in the Time of Money\" is...      1"
      ]
     },
     "execution_count": 4,
     "metadata": {},
     "output_type": "execute_result"
    }
   ],
   "source": [
    "# Mark the 'negative' as '0', and 'positive' as '1'\n",
    "pd['label'] = np.where(pd['label']=='positive', 1, 0)\n",
    "pd.head()"
   ]
  },
  {
   "cell_type": "code",
   "execution_count": 13,
   "id": "7e5abcec",
   "metadata": {},
   "outputs": [],
   "source": [
    "from sklearn.model_selection import train_test_split\n",
    "from keras.preprocessing.text import Tokenizer\n",
    "from keras_preprocessing.sequence import pad_sequences"
   ]
  },
  {
   "cell_type": "code",
   "execution_count": 14,
   "id": "5a3a4e2e",
   "metadata": {},
   "outputs": [],
   "source": [
    "# 分割訓練集和測試集\n",
    "X_train, X_test, y_train, y_test = train_test_split(pd['description'], pd['label'], test_size=0.2)"
   ]
  },
  {
   "cell_type": "code",
   "execution_count": 15,
   "id": "4126aefd",
   "metadata": {},
   "outputs": [],
   "source": [
    "# 將文本轉換為數字序列\n",
    "tokenizer = Tokenizer(num_words=10000)\n",
    "tokenizer.fit_on_texts(X_train)\n",
    "\n",
    "X_train_seq = tokenizer.texts_to_sequences(X_train)\n",
    "X_test_seq = tokenizer.texts_to_sequences(X_test)"
   ]
  },
  {
   "cell_type": "code",
   "execution_count": 16,
   "id": "27315ff7",
   "metadata": {},
   "outputs": [],
   "source": [
    "# 填充序列,使其長度相同\n",
    "maxlen = 100\n",
    "X_train_pad = pad_sequences(X_train_seq, maxlen=maxlen)\n",
    "X_test_pad = pad_sequences(X_test_seq, maxlen=maxlen)"
   ]
  },
  {
   "cell_type": "markdown",
   "id": "e47d7b5e",
   "metadata": {},
   "source": [
    "## 定義模型"
   ]
  },
  {
   "cell_type": "code",
   "execution_count": 21,
   "id": "9736197b",
   "metadata": {},
   "outputs": [],
   "source": [
    "#定義模型\n",
    "model = Sequential()\n",
    "model.add(LSTM(64, input_shape=(maxlen, 1)))\n",
    "model.add(Dense(1, activation='sigmoid'))"
   ]
  },
  {
   "cell_type": "markdown",
   "id": "314698a6",
   "metadata": {},
   "source": [
    "## 編譯模型"
   ]
  },
  {
   "cell_type": "code",
   "execution_count": 22,
   "id": "d283deb0",
   "metadata": {},
   "outputs": [],
   "source": [
    "#編譯模型\n",
    "model.compile(loss='binary_crossentropy', optimizer='adam', metrics=['accuracy'])"
   ]
  },
  {
   "cell_type": "markdown",
   "id": "e87f97ef",
   "metadata": {},
   "source": [
    "## 訓練模型"
   ]
  },
  {
   "cell_type": "code",
   "execution_count": 23,
   "id": "9632b372",
   "metadata": {},
   "outputs": [
    {
     "name": "stdout",
     "output_type": "stream",
     "text": [
      "Epoch 1/5\n",
      "1250/1250 [==============================] - 83s 64ms/step - loss: 0.6866 - accuracy: 0.5464 - val_loss: 0.6813 - val_accuracy: 0.5620\n",
      "Epoch 2/5\n",
      "1250/1250 [==============================] - 74s 59ms/step - loss: 0.6823 - accuracy: 0.5597 - val_loss: 0.6794 - val_accuracy: 0.5731\n",
      "Epoch 3/5\n",
      "1250/1250 [==============================] - 65s 52ms/step - loss: 0.6800 - accuracy: 0.5656 - val_loss: 0.6787 - val_accuracy: 0.5676\n",
      "Epoch 4/5\n",
      "1250/1250 [==============================] - 70s 56ms/step - loss: 0.6784 - accuracy: 0.5714 - val_loss: 0.6794 - val_accuracy: 0.5689\n",
      "Epoch 5/5\n",
      "1250/1250 [==============================] - 61s 49ms/step - loss: 0.6782 - accuracy: 0.5688 - val_loss: 0.6901 - val_accuracy: 0.5393\n"
     ]
    },
    {
     "data": {
      "text/plain": [
       "<keras.callbacks.History at 0x22a77856d00>"
      ]
     },
     "execution_count": 23,
     "metadata": {},
     "output_type": "execute_result"
    }
   ],
   "source": [
    "#訓練模型\n",
    "model.fit(X_train_pad, y_train, validation_data=(X_test_pad, y_test), epochs=5, batch_size=32)"
   ]
  },
  {
   "cell_type": "markdown",
   "id": "d9a9fad5",
   "metadata": {},
   "source": [
    "## 評估模型"
   ]
  },
  {
   "cell_type": "code",
   "execution_count": 24,
   "id": "3b772dc0",
   "metadata": {},
   "outputs": [
    {
     "name": "stdout",
     "output_type": "stream",
     "text": [
      "313/313 [==============================] - 4s 14ms/step - loss: 0.6901 - accuracy: 0.5393\n",
      "Test accuracy: 0.5393000245094299\n"
     ]
    }
   ],
   "source": [
    "#評估模型\n",
    "loss, acc = model.evaluate(X_test_pad, y_test, batch_size=32)\n",
    "print('Test accuracy:', acc)"
   ]
  },
  {
   "cell_type": "markdown",
   "id": "00897a57",
   "metadata": {},
   "source": [
    "## 將測試的語句轉為索引後，預測"
   ]
  },
  {
   "cell_type": "code",
   "execution_count": 25,
   "id": "f7fa6563",
   "metadata": {},
   "outputs": [
    {
     "name": "stdout",
     "output_type": "stream",
     "text": [
      "1/1 [==============================] - 1s 1s/step\n"
     ]
    },
    {
     "data": {
      "text/plain": [
       "array([[0.5828497]], dtype=float32)"
      ]
     },
     "execution_count": 25,
     "metadata": {},
     "output_type": "execute_result"
    }
   ],
   "source": [
    "x = ['The movie is very good. I like it and watch several times!']\n",
    "test_sequences = tokenizer.texts_to_sequences(x)\n",
    "\n",
    "# Pad the testing sequences\n",
    "test_padded = pad_sequences(test_sequences, maxlen=maxlen)\n",
    "\n",
    "model.predict(test_padded)"
   ]
  },
  {
   "cell_type": "code",
   "execution_count": 26,
   "id": "87354605",
   "metadata": {},
   "outputs": [
    {
     "name": "stdout",
     "output_type": "stream",
     "text": [
      "1/1 [==============================] - 0s 33ms/step\n"
     ]
    },
    {
     "data": {
      "text/plain": [
       "array([[0.5520717]], dtype=float32)"
      ]
     },
     "execution_count": 26,
     "metadata": {},
     "output_type": "execute_result"
    }
   ],
   "source": [
    "x = ['I hate the movie! It let me think about the sad memory.']\n",
    "test_sequences = tokenizer.texts_to_sequences(x)\n",
    "\n",
    "# Pad the testing sequences\n",
    "test_padded = pad_sequences(test_sequences, maxlen=maxlen)\n",
    "\n",
    "model.predict(test_padded)"
   ]
  },
  {
   "cell_type": "code",
   "execution_count": 27,
   "id": "8d3a069c",
   "metadata": {},
   "outputs": [
    {
     "name": "stdout",
     "output_type": "stream",
     "text": [
      "1/1 [==============================] - 0s 55ms/step\n"
     ]
    },
    {
     "data": {
      "text/plain": [
       "array([[0.5932382]], dtype=float32)"
      ]
     },
     "execution_count": 27,
     "metadata": {},
     "output_type": "execute_result"
    }
   ],
   "source": [
    "x = ['The movie is very succeddful!']\n",
    "test_sequences = tokenizer.texts_to_sequences(x)\n",
    "\n",
    "# Pad the testing sequences\n",
    "test_padded = pad_sequences(test_sequences, maxlen=maxlen)\n",
    "\n",
    "model.predict(test_padded)"
   ]
  },
  {
   "cell_type": "code",
   "execution_count": null,
   "id": "51ea3233",
   "metadata": {},
   "outputs": [],
   "source": []
  }
 ],
 "metadata": {
  "kernelspec": {
   "display_name": "Python 3 (ipykernel)",
   "language": "python",
   "name": "python3"
  },
  "language_info": {
   "codemirror_mode": {
    "name": "ipython",
    "version": 3
   },
   "file_extension": ".py",
   "mimetype": "text/x-python",
   "name": "python",
   "nbconvert_exporter": "python",
   "pygments_lexer": "ipython3",
   "version": "3.9.12"
  }
 },
 "nbformat": 4,
 "nbformat_minor": 5
}
